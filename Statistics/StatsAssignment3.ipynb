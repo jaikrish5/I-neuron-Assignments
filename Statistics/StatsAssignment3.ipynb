{
 "cells": [
  {
   "cell_type": "markdown",
   "metadata": {},
   "source": [
    "Q1.Blood glucose levels for obese patients have a mean of 100 with a standard deviation of 15. A researcher thinks that a diet high in raw cornstarch will have a positive effect on blood glucose levels. A sample of 36 patients who have tried the raw cornstarch diet have a mean glucose level of 108. Test the hypothesis that the raw cornstarch had an effect or not"
   ]
  },
  {
   "cell_type": "raw",
   "metadata": {},
   "source": [
    "ANS 1\n",
    "Null Hypothesis is H0:Mean=100 \n",
    "Alternative Hypothesis is H1:≠100 \n",
    "#There is no information provided about the significance level or confidence interval, so lets assume it to be 0.05 or 95% #which is commonly used.\n",
    "\n",
    "Lets calculate Z score z=3.2\n",
    "signifance at 5% comes out to be -2.58 +2.58\n",
    "so it is not lying in acceptance region \n",
    "we will reject the null hypothesis\n"
   ]
  },
  {
   "cell_type": "markdown",
   "metadata": {},
   "source": [
    "Q2.In one state, 52% of the voters are Republicans, and 48% are Democrats. In a second state, 47% of the voters are Republicans, and 53% are Democrats. Suppose a simple random sample of 100 voters are surveyed from each state. \n",
    "What is the probability that the survey will show a greater percentage of Republican voters in the second state than in the first state? \n"
   ]
  },
  {
   "cell_type": "code",
   "execution_count": null,
   "metadata": {},
   "outputs": [],
   "source": [
    "Ans2:\n",
    "    σd = sqrt{ [ P1(1 - P1) / n1 ] + [ P2(1 - P2) / n2 ] } \n",
    "    σd = 0.0706\n",
    "    z = (x - μ) / σd = = (0 - 0.05)/0.0706 = -0.7082\n",
    "    we find that the probability of a z-score being -0.7082 or less is 0.24."
   ]
  },
  {
   "cell_type": "markdown",
   "metadata": {},
   "source": [
    "Q3.You take the SAT and score 1100. The mean score for the SAT is 1026 and the standard deviation is 209. How well did you score on the test compared to the average test taker? "
   ]
  },
  {
   "cell_type": "raw",
   "metadata": {},
   "source": [
    "Ans3:\n",
    "    z - score =  ( x - mu)/sd = 0.35\n",
    "    This tells us we are 0.35 above std from mean.\n",
    "    we did well!"
   ]
  }
 ],
 "metadata": {
  "kernelspec": {
   "display_name": "Python 3",
   "language": "python",
   "name": "python3"
  },
  "language_info": {
   "codemirror_mode": {
    "name": "ipython",
    "version": 3
   },
   "file_extension": ".py",
   "mimetype": "text/x-python",
   "name": "python",
   "nbconvert_exporter": "python",
   "pygments_lexer": "ipython3",
   "version": "3.7.3"
  }
 },
 "nbformat": 4,
 "nbformat_minor": 2
}
