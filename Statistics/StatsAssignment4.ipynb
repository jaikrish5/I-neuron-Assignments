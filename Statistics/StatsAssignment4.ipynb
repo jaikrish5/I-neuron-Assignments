{
 "cells": [
  {
   "cell_type": "markdown",
   "metadata": {},
   "source": [
    "Q1.Is gender independent of education level? A random sample of 395 people were surveyed and each person was asked to report the highest education level they obtained. The data that resulted from the survey is summarized in the following table: "
   ]
  },
  {
   "cell_type": "raw",
   "metadata": {},
   "source": [
    "Ans1:\n",
    "Ho: There is a relationship between gender and level of education.\n",
    "H1: There is no relationship between gender and level of education.\n",
    "\n",
    "calculation:\n",
    "chi square = 8.006\n",
    "df = (2-1)*(4-1) = 3\n",
    "\n",
    "The critical value of chi square with 3 degree of freedom is 7.815. Since 8.006 > 7.815, we reject the null hypothesis and conclude that the education level depends on gender at a 5% level of significance.\n",
    "\n",
    "\n",
    "    "
   ]
  },
  {
   "cell_type": "markdown",
   "metadata": {},
   "source": [
    "Q2.Using the following data, perform a oneway analysis of variance using α=.05. Write up the results in APA format. "
   ]
  },
  {
   "cell_type": "raw",
   "metadata": {},
   "source": [
    "ans2:\n",
    "    Sample means for the groups: = 48.2, 35.4, 69.8\n",
    "    Sum of squared deviations from the mean (SS) for the groups: 612.8 515.2 732.8\n",
    "    v1 = 612.8/(5-1) = 153.2\n",
    "    v2 = 515.2/(5-1) = 128.8 \n",
    "    v3 = 732.8/(5-1) =183.2 \n",
    "    \n",
    "    MS(error) = (153.2+128.8+183.2)/3 = 155.07\n",
    "    df(error) = 15 -3 = 12\n",
    "    SS(error) = MS(error)*df(error) = 1860.8\n",
    "    \n",
    "    \n",
    "    Grand mean = (48.2+35.4+69.8)/3 = 51.13\n",
    "    \n",
    "    deviations from grand mean = (-2.93,-15.73,18.67)\n",
    "    square deviations from grand mean = (8.58,247.43,348.57)\n",
    "    \n",
    "    sum of squares = 604.58\n",
    "    \n",
    "    v(main) = 604.58 / 2 = 302.29 \n",
    "    MS (between) = (302.29)(5)=1511.45\n",
    "    df(group) = 3-1 = 2\n",
    "    SS(group) = MS(between)*df(group) = 3022.9 \n",
    "    F = MS(between)/MS(error) = 9.75\n",
    "    \n",
    "    Fcritical(2,12)=3.89\n",
    "    \n",
    "     Decision: reject H0 \n",
    "    \n",
    "    \n",
    "    \n",
    "    \n",
    "    \n",
    "    \n",
    "    \n",
    "    \n",
    "    \n",
    "    \n",
    "    \n",
    "    \n",
    "    \n",
    "    \n",
    "    \n",
    "    \n",
    "    \n",
    "    \n",
    "\n",
    " \n",
    "    \n",
    "    "
   ]
  },
  {
   "cell_type": "markdown",
   "metadata": {},
   "source": [
    "Q3.Calculate F Test for given 10, 20, 30, 40, 50 and 5,10,15, 20, 25. Q3."
   ]
  },
  {
   "cell_type": "raw",
   "metadata": {},
   "source": [
    "Ans3 :\n",
    "Calculate Variance of first set:\n",
    "\n",
    "Total Inputs (N) =(10,20,30,40,50)\n",
    "Total Inputs (N)=5\n",
    "Mean (xm)= (x1+x1+x2...xn)/N\n",
    "Mean (xm)= 150/5\n",
    "Means(xm)= 30\n",
    "SD=sqrt(1/(N-1)*((x1-xm)2+(x2-xm)2+..+(xn-xm)2))\n",
    "=sqrt(1/(5-1)((10-30)2+(20-30)2+(30-30)2+(40-30)2+(50-30)2))\n",
    "=sqrt(1/4((-20)2+(-10)2+(0)2+(10)2+(20)2))\n",
    "=sqrt(1/4((400)+(100)+(0)+(100)+(400)))\n",
    "=sqrt(250)\n",
    "=15.8114\n",
    "Variance=SD2\n",
    "Variance=15.81142\n",
    "Variance=250\n",
    "\n",
    "\n",
    "\n",
    "Calculate Variance of second set\n",
    "For 5, 10,15,20,25:\n",
    "Total Inputs(N) =(5,10,15,20,25)\n",
    "Total Inputs(N)=5\n",
    "Mean (xm)= (x1+x2+x3...xN)/N\n",
    "Mean (xm)= 75/5\n",
    "Means (xm)= 15\n",
    "SD=sqrt(1/(N-1)*((x1-xm)2+(x2-xm)2+..+(xn-xm)2))\n",
    "=sqrt(1/(5-1)((5-15)2+(10-15)2+(15-15)2+(20-15)2+(25-15)2))\n",
    "=sqrt(1/4((-10)2+(-5)2+(0)2+(5)2+(10)2))\n",
    "=sqrt(1/4((100)+(25)+(0)+(25)+(100)))\n",
    "=sqrt(62.5)\n",
    "=7.9057\n",
    "Variance=SD2\n",
    "Variance=7.90572\n",
    "Variance=62.5\n",
    "\n",
    "To calculate F Test\n",
    "F Test = (variance of 10, 20,30,40,50) / (variance of 5, 10, 15, 20, 25)\n",
    "= 250/62.5\n",
    "= 4.\n",
    "\n",
    "The F Test value is 4.\n",
    "\n",
    "\n"
   ]
  }
 ],
 "metadata": {
  "kernelspec": {
   "display_name": "Python 3",
   "language": "python",
   "name": "python3"
  },
  "language_info": {
   "codemirror_mode": {
    "name": "ipython",
    "version": 3
   },
   "file_extension": ".py",
   "mimetype": "text/x-python",
   "name": "python",
   "nbconvert_exporter": "python",
   "pygments_lexer": "ipython3",
   "version": "3.7.3"
  }
 },
 "nbformat": 4,
 "nbformat_minor": 2
}
