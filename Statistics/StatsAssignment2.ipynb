{
 "cells": [
  {
   "cell_type": "markdown",
   "metadata": {},
   "source": [
    "Q1.Problem Statement 1: \n",
    "In each of the following situations, state whether it is a correctly stated hypothesis testing problem and why? \n",
    "1. H0: μ = 25, H1: μ ≠ 25 \n",
    "2. H0: σ > 10, H1: σ = 10 \n",
    "3. H0: x = 50, H1: x ≠ 50\n",
    "4. H0: p = 0.1, H1: p = 0.5\n",
    "5. H0: s = 30, H1: s > 30 \n"
   ]
  },
  {
   "cell_type": "raw",
   "metadata": {},
   "source": [
    "Ans 1\n",
    "1. True . (It is correctly stated hypothesis).(It checks for two tail test)\n",
    "2.False.(It is not correctly stated hypothesis).(It misses the case where  σ <10).\n",
    "3.True .(It is correctly stated hypothesis).(It checks for two tail test)\n",
    "4.False . (It is not correctly stated hypothesis).(It misses the case where p has other values apart from 0.1 or 0.5).\n",
    "5.False . (It is not correctly stated hypothesis).(It misses the case where  s<30)."
   ]
  },
  {
   "cell_type": "markdown",
   "metadata": {},
   "source": [
    "Q2: \n",
    "The college bookstore tells prospective students that the average cost of its textbooks is Rs. 52 with a standard deviation of Rs. 4.50. A group of smart statistics students thinks that the average cost is higher. To test the bookstore’s claim against their alternative, the students will select a random sample of size 100. Assume that the mean from their random sample is Rs. 52.80. Perform a hypothesis test at the 5% level of significance and state your decision. \n"
   ]
  },
  {
   "cell_type": "raw",
   "metadata": {},
   "source": [
    "ANS 2:\n",
    "Ho: mean = 52\n",
    "H1: mean is not = 52\n",
    "    calculation:\n",
    "        z score is 1.78\n",
    "        The critical value of z is -1.96 and +1.96\n",
    "        since the computed value of z=1.78 which falls in acceptance region .\n",
    "        we accept the null hypothesis."
   ]
  },
  {
   "cell_type": "markdown",
   "metadata": {},
   "source": [
    "Q3. A certain chemical pollutant in the Genesee River has been constant for several years with mean μ = 34 ppm (parts per million) and standard deviation σ = 8 ppm. A group of factory representatives whose companies discharge liquids into the river is now claiming that they have lowered the average with improved filtration devices. A group of environmentalists will test to see if this is true at the 1% level of significance. Assume \\ that their sample of size 50 gives a mean of 32.5 ppm. Perform a hypothesis test at the 1% level of significance and state your decision. "
   ]
  },
  {
   "cell_type": "raw",
   "metadata": {},
   "source": [
    "Ans 3:\n",
    "Ho : mean = 34\n",
    "H1: mean is not 34\n",
    " calculation:\n",
    "        z score is -1.33\n",
    "        The critical value of z is -2.58 and +2.58\n",
    "        since the computed value of z=-1.33 which falls in acceptance region .\n",
    "        we accept the null hypothesis.\n",
    "\n",
    "\n"
   ]
  },
  {
   "cell_type": "markdown",
   "metadata": {},
   "source": [
    "Q4: Based on population figures and other general information on the U.S. population, suppose it has been estimated that, on average, a family of four in the U.S. spends about $1135 annually on dental expenditures. Suppose further that a regional dental association wants to test to determine if this figure is accurate for their area of country. To test this, 22 families of 4 are randomly selected from the population in that area of the country and a log is kept of the family’s dental expenditure for one year. The resulting data are given below. Assuming, that dental expenditure is normally distributed in the population, use the data and an alpha of 0.5 to test the dental association’s hypothesis. \n",
    "1008, 812, 1117, 1323, 1308, 1415, 831, 1021, 1287, 851, 930, 730, 699, 872, 913, 944, 954, 987, 1695, 995, 1003, 994 \n"
   ]
  },
  {
   "cell_type": "raw",
   "metadata": {},
   "source": [
    "Ho: mean = 1135\n",
    "H1: mean is not = 1135\n",
    "    \n",
    "    calculation:\n",
    "        sample mean = 1031.32\n",
    "        z score is -2.02\n",
    "        The critical value of z is -1.96 and +1.96\n",
    "        since the computed value of z=-2.02 which doesnot falls in acceptance region .\n",
    "        we reject the null hypothesis."
   ]
  },
  {
   "cell_type": "markdown",
   "metadata": {},
   "source": [
    "Q5: In a report prepared by the Economic Research Department of a major bank the Department manager maintains that the average annual family income on Metropolis is 48,432. What do you conclude about the validity of the report if a random sample of 400 families shows and average income of 48,574 with a standard deviation of 2000? "
   ]
  },
  {
   "cell_type": "raw",
   "metadata": {},
   "source": [
    "Ans 5:\n",
    "Ho: mean = 48432\n",
    "H1: mean is not = 48432\n",
    "significance level is 10%\n",
    "    calculation:\n",
    "        z score is 1.42\n",
    "        The critical value of z is -1.645 and +1.645\n",
    "        since the computed value of z=1.42 which falls in acceptance region .\n",
    "        we accept the null hypothesis."
   ]
  },
  {
   "cell_type": "markdown",
   "metadata": {},
   "source": [
    "Q6.Suppose that in past years the average price per square foot for warehouses in the United States has been 32.28. A national real estate investor wants to determine whether that figure has changed now. The investor hires a researcher who randomly samples 19 warehouses that are for sale across the United States and finds that the mean price per square foot is 31.67, with a standard deviation of 1.29. assume that the prices of warehouse footage are normally distributed in population. If the researcher uses a 5% Level of significance, what statistical conclusion can be reached? What are the hypotheses? "
   ]
  },
  {
   "cell_type": "raw",
   "metadata": {},
   "source": [
    "ANS 6:\n",
    "Ho: mean = 32.28\n",
    "H1: mean is not = 32.28\n",
    "significance level is 5%\n",
    "    calculation:\n",
    "        z score is -2.1\n",
    "        The critical value of z is -1.96 and +1.96\n",
    "        since the computed value of z=-2.1 which doesnt falls in  acceptance region .\n",
    "        we reject the null hypothesis."
   ]
  },
  {
   "cell_type": "markdown",
   "metadata": {},
   "source": [
    "Q7. table\n"
   ]
  },
  {
   "cell_type": "code",
   "execution_count": null,
   "metadata": {},
   "outputs": [],
   "source": []
  },
  {
   "cell_type": "markdown",
   "metadata": {},
   "source": [
    "Q8.Find the t-score for a sample size of 16 taken from a population with mean 10 when the sample mean is 12 and the sample standard deviation is 1.5. "
   ]
  },
  {
   "cell_type": "raw",
   "metadata": {},
   "source": [
    "ANS 8: t-score - 5.33"
   ]
  },
  {
   "cell_type": "markdown",
   "metadata": {},
   "source": [
    "Q9.Find the t-score below which we can expect 99% of sample means will fall if samples of size 16 are taken from a normally distributed population. "
   ]
  },
  {
   "cell_type": "raw",
   "metadata": {},
   "source": [
    "Ans9: 1- alpha = beta\n",
    "    alpha = 0.01\n",
    "    df = 15\n",
    "    t score = -2.602"
   ]
  },
  {
   "cell_type": "markdown",
   "metadata": {},
   "source": [
    "Q10.If a random sample of size 25 drawn from a normal population gives a mean of 60 and a standard deviation of 4, find the range of t-scores where we can expect to find the middle 95% of all sample means. Compute the probability that (−t0.05 <t<t0.10). "
   ]
  },
  {
   "cell_type": "raw",
   "metadata": {},
   "source": [
    "Ans10.\n",
    "alpha -1 = 0.95\n",
    "alpha = 0.05\n",
    "df = 24\n",
    "t score = -1.711"
   ]
  },
  {
   "cell_type": "markdown",
   "metadata": {},
   "source": [
    "Q11.Two-tailed test for difference between two population means Is there evidence to conclude that the number of people travelling from Bangalore to Chennai is different from the number of people travelling from Bangalore to Hosur in a week, given the following: Population 1: Bangalore to Chennai n1 = 1200 \n",
    "x1 = 452\n",
    "s1 = 212 Population 2: Bangalore to Hosur\n",
    "n2 = 800\n",
    "x2 = 523\n",
    "s2 = 185 "
   ]
  },
  {
   "cell_type": "raw",
   "metadata": {},
   "source": [
    "Ans 11:\n",
    "    Ho: population 1 = population 2\n",
    "    H1: population 1 is not equal population 2 \n",
    "        t score :- -7.94\n",
    "            p value from calculator (df=799) = 0.0001\n",
    "            as this p value is significantly lesser than signifance of 5 % (0.05)\n",
    "            so we will reject null hyposthesis"
   ]
  },
  {
   "cell_type": "markdown",
   "metadata": {},
   "source": [
    "Q12.Is there evidence to conclude that the number of people preferring Duracell battery is different from the number of people preferring Energizer battery, given the following: Population 1: Duracell n1 = 100 x1 = 308 s1 = 84 Population 2: Energizer n2 = 100 x2 = 254 s2 = 67 "
   ]
  },
  {
   "cell_type": "raw",
   "metadata": {},
   "source": [
    "Ans 12:\n",
    "    Ho: population 1 = population 2\n",
    "    H1: population 1 is not equal population 2 \n",
    "        t score :- -5.04\n",
    "            p value from calculator (df=99) = 0.0001\n",
    "            as this p value is significantly lesser than signifance of 5 % (0.05)\n",
    "            so we will reject null hyposthesis"
   ]
  },
  {
   "cell_type": "markdown",
   "metadata": {},
   "source": [
    "Q13.Pooled estimate of the population variance Does the data provide sufficient evidence to conclude that average percentage increase in the price of sugar differs when it is sold at two different prices? Population 1: Price of sugar = Rs. 27.50 n1 = 14 x1 = 0.317% s1 = 0.12% Population 2: Price of sugar = Rs. 20.00 n2 = 9 x2 = 0.21% s2 = 0.11% "
   ]
  },
  {
   "cell_type": "code",
   "execution_count": null,
   "metadata": {},
   "outputs": [],
   "source": [
    "Ans13\n",
    "Ho: price of one and 2 sugar remains same\n",
    "    H1: price of one and two is not same\n",
    "        t score :- -2.27\n",
    "            p value from calculator (df=8) = 0.0529\n",
    "            as this p value is significantly lower than signifance of 10 % (0.1)\n",
    "            so we will reject null hyposthesis"
   ]
  },
  {
   "cell_type": "markdown",
   "metadata": {},
   "source": [
    "Q14.The manufacturers of compact disk players want to test whether a small price reduction is enough to increase sales of their product. Is there evidence that the small price reduction is enough to increase sales of compact disk players? Population 1: Before reduction n1 = 15 x1 = Rs. 6598 s1 = Rs. 844 Population 2: After reduction n2 = 12 x2 = RS. 6870 s2 = Rs. 669 "
   ]
  },
  {
   "cell_type": "raw",
   "metadata": {},
   "source": [
    "Ans14\n",
    "Ho: population 1 - population 2 <= 0\n",
    "    H1: population 1 - population 2 >0\n",
    "        t score :- -0.93\n",
    "            p value from calculator (df=11) = 0.37\n",
    "            as this p value is significantly higher than signifance of 10 % (0.1)\n",
    "            so we will accept null hyposthesis"
   ]
  },
  {
   "cell_type": "markdown",
   "metadata": {},
   "source": [
    "Q15.Comparisons of two population proportions when the hypothesized difference is zero Carry out a two-tailed test of the equality of banks’ share of the car loan market in 1980 and 1995. Population 1: 1980 n1 = 1000 x1 = 53 p 1 = 0.53 Population 2: 1985 n2 = 100 x2 = 43 p 2= 0.53"
   ]
  },
  {
   "cell_type": "raw",
   "metadata": {},
   "source": [
    "Ans15\n",
    "Ho: population 1 - population 2 = 0\n",
    "    H1: population 1 - population 2 is not equal to 0\n",
    "        t score : 59.8\n",
    "            p value from calculator (df=99) = 0.0001\n",
    "            as this p value is significantly lesser than signifance of 10 % (0.1)\n",
    "            so we will reject null hyposthesis"
   ]
  },
  {
   "cell_type": "markdown",
   "metadata": {},
   "source": [
    "Q16.Carry out a one-tailed test to determine whether the population proportion of traveler’s check buyers who buy at least 2500 in checks when sweepstakes prizes are offered as at least 10% higher than the proportion of such buyers when no sweepstakes are on. Population 1: With sweepstakes n1 = 300 x1 = 120 p = 0.40 Population 2: No sweepstakes n2 = 700 x2 = 140 p 2= 0.20"
   ]
  },
  {
   "cell_type": "raw",
   "metadata": {},
   "source": [
    "Ans16\n",
    "Ho: population 1 - population 2 <= 0.10\n",
    "    H1: population 1 - population 2 > .10\n",
    "        z score : 3.118\n",
    "           z(10%) = 1.28\n",
    "        z test is large than significance so we reject the null hypothesis"
   ]
  },
  {
   "cell_type": "markdown",
   "metadata": {},
   "source": [
    "Q17.A die is thrown 132 times with the following results: Number turned up: 1, 2, 3, 4, 5, 6 Frequency: 16, 20, 25, 14, 29, 28 Is the die unbiased? Consider the degrees of freedom as p − ."
   ]
  },
  {
   "cell_type": "raw",
   "metadata": {},
   "source": [
    "Ans17:\n",
    "Null hypothesis : (H0) The die is unbiased\n",
    "Alternative Hypothesis (HA): The die is not unbiased.\n",
    "    On the hypothesis that the die is unbiased we should expect the frequency of each number to be 132/6 =22\n",
    "∴Xcal2=∑(O−E)2E=198/22=8.91\n",
    "Step 3:\n",
    "\n",
    "L.O.S (∝) = 0.05\n",
    "\n",
    "Degree of freedom = n-1 = 6-1 =5\n",
    "\n",
    "Step 4 :\n",
    "\n",
    "∴ Critical value (X∝)2=11.0705\n",
    "Step 5 : Decision\n",
    "\n",
    "Since X2cal<  (X∝)2\n",
    "\n",
    "HO is accepted.\n",
    "\n"
   ]
  },
  {
   "cell_type": "markdown",
   "metadata": {},
   "source": [
    "Q18.In a certain town, there are about one million eligible voters. A simple random sample of 10,000 eligible voters was chosen to study the relationship between gender and participation in the last election. The results are summarized in the following 2X2 (read two by two) contingency table: \n",
    "We would want to check whether being a man or a woman (columns) is independent of having voted in the last election (rows). In other words, is “gender and voting independent”? \n"
   ]
  },
  {
   "cell_type": "raw",
   "metadata": {},
   "source": [
    "Ans 18:\n",
    "    Ho: gender and voting independent\n",
    "    H1: gender and voting not independent    \n",
    "    Total number of men voted = 2731\n",
    "    Total number of women voted = 3652\n",
    "    X2 test value =6.6\n",
    "    x2 value for (significance=0.05 and df = (2-1)*(2-1)) = 3.84\n",
    "    as test value is lage than X2 value \n",
    "    we will reject null hyposthesis\n",
    "    "
   ]
  },
  {
   "cell_type": "markdown",
   "metadata": {},
   "source": [
    "Q19.A sample of 100 voters are asked which of four candidates they would vote for in an election. The number supporting each candidate is given below: \n",
    "Do the data suggest that all candidates are equally popular? \n"
   ]
  },
  {
   "cell_type": "raw",
   "metadata": {},
   "source": [
    "Ans 19\n",
    "Ho:candidates are equally popular\n",
    "H1: candidates are not equally popular\n",
    "    through alanlysing data our test chi square comes out to be 14.96 \n",
    "and critical value chi suare for 0.05 signifance df=3 is 7.82 \n",
    "as test chi suare is larger than critical value \n",
    "we will reject null hypothesis\n",
    "and accept alternate one"
   ]
  },
  {
   "cell_type": "markdown",
   "metadata": {},
   "source": [
    "Q20.Children of three ages are asked to indicate their preference for three photographs of adults. Do the data suggest that there is a significant relationship between age and photograph preference? What is wrong with this study?"
   ]
  },
  {
   "cell_type": "raw",
   "metadata": {},
   "source": [
    "\n",
    "Ans 20:\n",
    "Ho:preference for photographs are equally popular\n",
    "H1:preference for photographs are not equally popular\n",
    "     chi square = 29.60\n",
    "     d.f. = (rows - 1) * (columns - 1) = 2 * 2 = 4.\n",
    "The critical value of Chi-Square in the table for a 0.001 significance level and 4 d.f. is 18.46.\n",
    "we will reject the null hypothesis\n",
    "\n"
   ]
  },
  {
   "cell_type": "markdown",
   "metadata": {},
   "source": [
    "Q21.A study of conformity using the Asch paradigm involved two conditions: one where one confederate supported the true judgement and another where no confederate gave the correct response. \n",
    "Is there a significant difference between the \"support\" and \"no support\" conditions in the frequency with which individuals are likely to conform?\n"
   ]
  },
  {
   "cell_type": "raw",
   "metadata": {},
   "source": [
    "Ans 21:\n",
    "Ho:no difference between support and no supprot groups\n",
    "H1:There is a difference between support and no supprot groups\n",
    "     chi square = 19.87\n",
    "     d.f. = (rows - 1) * (columns - 1) =1\n",
    " Our obtained value of Chi-Squared is bigger than the critical value of Chi-Squared for a 0.001 significance level\n",
    "we will reject the null hypothesis"
   ]
  },
  {
   "cell_type": "markdown",
   "metadata": {},
   "source": [
    "Q22.We want to test whether short people differ with respect to their leadership qualities (Genghis Khan, Adolf Hitler and Napoleon were all stature-deprived, and how many midget MP's are there?) The following table shows the frequencies with which 43 short people and 52 tall people were categorized as \"leaders\", \"followers\" or as \"unclassifiable\". Is there a relationship between height and leadership qualities? "
   ]
  },
  {
   "cell_type": "raw",
   "metadata": {},
   "source": [
    "Ans 22:\n",
    "Ho:relationship between height and leadership quality\n",
    "H1:relationship between height and leadership quality\n",
    "     chi square = 10.71\n",
    "     d.f. = (rows - 1) * (columns - 1) =2\n",
    " Our obtained value of Chi-Squared is bigger than the critical value of Chi-Squared for a 0.01 significance level\n",
    "we will reject the null hypothesis"
   ]
  },
  {
   "cell_type": "markdown",
   "metadata": {},
   "source": [
    "Q23.Each respondent in the Current Population Survey of March 1993 was classified as employed, unemployed, or outside the labor force. The results for men in California age 35- 44 can be cross-tabulated by marital status, as follows: "
   ]
  },
  {
   "cell_type": "raw",
   "metadata": {},
   "source": [
    "Ans 23:\n",
    " Ho: Rows and columns are independent.\n",
    " H1: There is a relationship between rows and columns.\n",
    "       \n",
    "     chi square = 31.613103\n",
    "     d.f. = (rows - 1) * (columns - 1) =4\n",
    " Our obtained value of Chi-Squared is bigger than the critical value of Chi-Squared for a 0.05 significance level\n",
    "we will reject the null hypothesis"
   ]
  }
 ],
 "metadata": {
  "kernelspec": {
   "display_name": "Python 3",
   "language": "python",
   "name": "python3"
  },
  "language_info": {
   "codemirror_mode": {
    "name": "ipython",
    "version": 3
   },
   "file_extension": ".py",
   "mimetype": "text/x-python",
   "name": "python",
   "nbconvert_exporter": "python",
   "pygments_lexer": "ipython3",
   "version": "3.7.3"
  }
 },
 "nbformat": 4,
 "nbformat_minor": 2
}
