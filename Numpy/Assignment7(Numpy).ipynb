{
 "cells": [
  {
   "cell_type": "markdown",
   "metadata": {},
   "source": [
    "# Write a function so that the columns of the output matrix are powers of the input vector.The order of the powers is determined by the increasing boolean argument. Specifically, whenincreasing is False, the i-th output column is the input vector raised element-wise to the power of N - i - 1.\n",
    "\n"
   ]
  },
  {
   "cell_type": "code",
   "execution_count": null,
   "metadata": {},
   "outputs": [],
   "source": [
    "import numpy\n",
    "\n",
    "def matrix_formation(x,N,increasing=False):\n",
    "    x = numpy.array(x)\n",
    "    if (increasing):\n",
    "        return numpy.column_stack([x**(i) for i in range(N)]) \n",
    "    else:\n",
    "        return numpy.column_stack([x**(N-1-i) for i in range(N)])  "
   ]
  },
  {
   "cell_type": "code",
   "execution_count": 11,
   "metadata": {},
   "outputs": [
    {
     "name": "stdout",
     "output_type": "stream",
     "text": [
      "The output array:-\n",
      " [[  1   1   1   1   1]\n",
      " [ 16   8   4   2   1]\n",
      " [ 81  27   9   3   1]\n",
      " [625 125  25   5   1]]\n"
     ]
    }
   ],
   "source": [
    "input_array=[1,2,3,5]\n",
    "columns = 5\n",
    "increasing =False\n",
    "\n",
    "\n",
    "output = matrix_formation(input_array,columns,increasing)\n",
    "print(\"The output array:-\\n\",output)"
   ]
  },
  {
   "cell_type": "markdown",
   "metadata": {},
   "source": [
    "# Write a function to find moving average in an array over a window:\n",
    "\n",
    "Test it over [3, 5, 7, 2, 8, 10, 11, 65, 72, 81, 99, 100, 150] and window of 3."
   ]
  },
  {
   "cell_type": "code",
   "execution_count": 15,
   "metadata": {},
   "outputs": [],
   "source": [
    "def mov_avg(mylist, N):\n",
    "    mylist, moving_av = [0], []\n",
    "    for i, x in enumerate(mylist, 1):\n",
    "        mylist.append(mylist[i-1] + x) \n",
    "        if i>=N:\n",
    "            temp = round(((mylist[i] - mylist[i-N])/N),2) #computing the moving average using temp array sum array cumsum\n",
    "            #can do stuff with moving_ave here\n",
    "            moving_av.append(temp) \n",
    "    print(\"Moving average values list: \", moving_av)\n",
    "    print(\"Length of the list l-N+1: \", len(moving_av))"
   ]
  },
  {
   "cell_type": "code",
   "execution_count": null,
   "metadata": {},
   "outputs": [],
   "source": [
    "mylist = [10, 20, 30, 40, 50, 60, 70, 80, 90, 100]\n",
    "N = 4\n",
    "\n",
    "mov_avg(mylist,N)"
   ]
  }
 ],
 "metadata": {
  "kernelspec": {
   "display_name": "Python 3",
   "language": "python",
   "name": "python3"
  },
  "language_info": {
   "codemirror_mode": {
    "name": "ipython",
    "version": 3
   },
   "file_extension": ".py",
   "mimetype": "text/x-python",
   "name": "python",
   "nbconvert_exporter": "python",
   "pygments_lexer": "ipython3",
   "version": "3.7.3"
  }
 },
 "nbformat": 4,
 "nbformat_minor": 2
}
